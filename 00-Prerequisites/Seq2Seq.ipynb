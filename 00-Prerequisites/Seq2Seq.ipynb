{
 "cells": [
  {
   "cell_type": "markdown",
   "id": "b374fd47-efdb-4a51-baf8-5c159af6cafb",
   "metadata": {},
   "source": [
    "# Encoding, Decoding, and Learning: The Math of Sequence-to-Sequence Translation\n",
    "\n",
    "\n",
    "\n"
   ]
  },
  {
   "cell_type": "markdown",
   "id": "3b87ada3-4a51-4815-b7f1-fd8026e0868f",
   "metadata": {},
   "source": [
    "In this post, you'll explore the **mathematical foundations of sequence-to-sequence (seq2seq) models** for machine translation. We'll focus on the **RNN Encoder–Decoder architecture**, which consists of two main components: an **encoder RNN** and a **decoder RNN**. As an example, we'll see how this model can be trained to translate English phrases into French 🇬🇧➡️🇫🇷.\n"
   ]
  },
  {
   "cell_type": "markdown",
   "id": "dfe133a4-9e8a-4f29-b5fa-f6618981c051",
   "metadata": {},
   "source": [
    "## Definition"
   ]
  },
  {
   "cell_type": "markdown",
   "id": "13784f71-edd5-409c-8139-4748c25d121e",
   "metadata": {},
   "source": [
    "#### $\\textcolor{green}{\\text{Sequence-to-Sequence (Seq2Seq) Translation }}$\n",
    "\n",
    "Sequence-to-Sequence (Seq2Seq) is a deep learning framework designed to convert an input sequence (e.g., a sentence in French) into an output sequence (e.g., its English translation). It consists of two main components:\n",
    "\n",
    "- **$\\textcolor{green}{\\text{ Encoder}}$** – Processes the input sequence and compresses it into a $\\textcolor{green}{\\text{context vector}}$, a fixed-length representation capturing the input's semantics.\n",
    "\n",
    "- **$\\textcolor{green}{\\text{ Decoder}}$** – Generates the output sequence $\\textcolor{green}{\\text{step-by-step}}$, conditioned on the context vector from the encoder.\n",
    "\n",
    "\n",
    "\n",
    "#### $\\textcolor{green}{\\text{Key Features }}$\n",
    "\n",
    "- **Handles variable-length input and output** sequences (e.g., translating sentences of different lengths).\n",
    "- **Supports various architectures**: RNNs, LSTMs, GRUs, and more recently, **Transformers** (state-of-the-art).\n",
    "- **Trained end-to-end** using *teacher forcing*  i.e., during training, the decoder is fed the true previous token rather than its own prediction.\n",
    "\n",
    "\n",
    "$\\textcolor{green}{\\text{ }}$\n",
    "$\\textcolor{green}{\\text{ }}$"
   ]
  },
  {
   "cell_type": "markdown",
   "id": "28cd00a8-f0d9-44f8-9203-017a9dc26386",
   "metadata": {},
   "source": [
    "## Preliminaries:"
   ]
  },
  {
   "cell_type": "markdown",
   "id": "4adde301-40d4-45e9-87cd-f51fc1b61ad7",
   "metadata": {},
   "source": [
    ":::{tip}  Recurrent Neural Networks\n",
    "\n",
    "![](../images/RNN.png)\n",
    "**Figure 1**: RNN (Image by the author).\n",
    "\n",
    "\n",
    "\n",
    "\n",
    "### The input $\\textcolor{green}{x_t}$\n",
    "In a Recurrent Neural Network (RNN), the input at time step $t$, denoted as $\\textcolor{green}{x_t}$, represents the data fed into the network at that point in the sequence. It is typically a vector (e.g., a word embedding) in $\\mathbb{R}^d$, where $d$ is the embedding dimension.\n",
    "\n",
    "\n",
    "As an example, lte's consider the 4-word sentence: $ \\textcolor{green}{\\text{``Cryptocurrency is the future''}}$. This sequence has length $m = 4$. The corresponding inputs are:\n",
    "\n",
    "$$\n",
    "\\textcolor{green}{x_1} = \\text{embedding}(\\textcolor{green}{\\text{``Cryptocurrency''}});\\quad  \n",
    "\\textcolor{green}{x_2} = \\text{embedding}(\\textcolor{green}{\\text{``is''}}) ; \\quad  \n",
    "\\textcolor{green}{x_3} = \\text{embedding}(\\textcolor{green}{\\text{``the''}}); \\quad   \n",
    "\\textcolor{green}{x_4} = \\text{embedding}(\\textcolor{green}{\\text{``future''}})\n",
    "$$\n",
    "\n",
    "### Hidden State $\\textcolor{red}{h_t}$\n",
    "\n",
    "The hidden state serves as the network's internal memory, encoding contextual information from the sequence up to time $t$. It is updated as shown above, and plays a key role in maintaining temporal dependencies. At each time step, the hidden state $\\textcolor{red}{h_t}$ is updated based on the current input $\\textcolor{green}{x_t}$ and the previous hidden state $\\textcolor{red}{h_{t-1}}$:\n",
    "\n",
    "$$\n",
    "\\textcolor{red}{h_t} = f(W_{hh} \\textcolor{red}{h_{t-1}} + W_{xh} \\textcolor{green}{x_t} + b_h)\n",
    "$$\n",
    "\n",
    "Here $W_{xh}$ and $W_{hh}$ are weight matrices, $b_h$ is a bias vector, and $f$ is a nonlinear activation function such as $\\tanh$ or ReLU.\n",
    "\n",
    "### Initial Hidden State $\\textcolor{red}{h_0}$\n",
    "\n",
    "The initial hidden state $\\textcolor{red}{h_0}$ represents the starting memory of the RNN before any input is processed. It is typically initialized in one of the following ways:\n",
    "\n",
    "- As a zero vector:  \n",
    "  $\n",
    "  \\textcolor{red}{h_0} = \\mathbf{0} \\in \\mathbb{R}^n\n",
    "  $\n",
    "  where $n$ is the dimensionality of the hidden state.\n",
    "\n",
    "- With small random values (e.g., sampled from a normal distribution):  \n",
    "  $\n",
    "  \\textcolor{red}{h_0} \\sim \\mathcal{N}(0, \\sigma^2 I)\n",
    "  $\n",
    "\n",
    "- As a learned parameter:  \n",
    "  $\\textcolor{red}{h_0}$ can also be treated as a trainable vector that is learned during training, allowing the model to adapt its initial memory based on the data.\n",
    "\n",
    "The choice depends on the specific task, model design, and desired behavior at the start of the sequence.\n",
    "\n",
    "\n",
    "### Output $\\textcolor{blue}{y_t}$\n",
    "\n",
    "The output at time step $t$ is computed from the hidden state:\n",
    "\n",
    "$$\n",
    "\\textcolor{blue}{y_t} = g(W_{hy} \\textcolor{red}{h_t} + b_y)\n",
    "$$\n",
    "\n",
    "where $W_{hy}$ is the output weight matrix, $b_y$ is a bias vector and $g$ is an activation function such as softmax or sigmoid, depending on the task.\n",
    "\n",
    "\n",
    "\n",
    ":::"
   ]
  },
  {
   "cell_type": "markdown",
   "id": "133352bd-7e20-4196-a0e0-110794754ba0",
   "metadata": {},
   "source": [
    ":::{tip}  Sequence Modeling vs. Sequence Prediction\n",
    "\n",
    "\n",
    "\n",
    "\n",
    "- **Sequence modeling** refers to learning the joint probability distribution of a sequence:\n",
    "  \n",
    "  $$\n",
    "  p(\\textcolor{green}{x_1}, \\textcolor{green}{x_2}, \\dots, \\textcolor{green}{x_T}) = \\prod_{t=1}^T p(\\textcolor{green}{x_t} \\mid \\textcolor{green}{x_1}, \\dots, \\textcolor{green}{x_{t-1}})\n",
    "  $$\n",
    "\n",
    "  In this context, the model learns to estimate each conditional distribution $p(\\textcolor{green}{x_t} \\mid  \\textcolor{green}{x_{<t}} )$. The output $\\textcolor{blue}{y_t}$ is interpreted as:\n",
    "\n",
    "  $$\n",
    "  \\textcolor{blue}{y_t} \\approx p(\\textcolor{green}{x_t} \\mid  \\textcolor{green}{x_{<t}} )\n",
    "  $$\n",
    "\n",
    "  That is, $\\textcolor{blue}{y_t}$ is a **model-generated approximation** of the next-token distribution, based on past inputs.\n",
    "\n",
    "- **Sequence prediction**, on the other hand, is a downstream task that uses the output $\\textcolor{blue}{y_t}$ to **predict** the next token:\n",
    "\n",
    "  $$\n",
    "  \\textcolor{green}{\\hat{x}_t} = \\arg\\max_{\\textcolor{blue}{j}} \\textcolor{blue}{y_{t,j}} \n",
    "  $$\n",
    "\n",
    "  Here, $\\textcolor{blue}{y_t}$ is used to choose the most likely next symbol (i.e., prediction), but it still represents a distribution over the vocabulary.\n",
    "\n",
    "\n",
    ":::"
   ]
  },
  {
   "cell_type": "markdown",
   "id": "70747296-5016-4762-a2d1-242bdf1c7700",
   "metadata": {},
   "source": [
    "## RNN Encoder–Decoder"
   ]
  },
  {
   "cell_type": "code",
   "execution_count": null,
   "id": "5ab7f632-f460-439b-9d38-37c836856312",
   "metadata": {},
   "outputs": [],
   "source": []
  },
  {
   "cell_type": "code",
   "execution_count": null,
   "id": "c05fb33f-dbe4-45fe-81e3-480bcfa622f0",
   "metadata": {},
   "outputs": [],
   "source": []
  },
  {
   "cell_type": "code",
   "execution_count": null,
   "id": "de5ac86a-f22c-46b0-95e9-17bf06f5ddc1",
   "metadata": {},
   "outputs": [],
   "source": []
  },
  {
   "cell_type": "code",
   "execution_count": null,
   "id": "12b3efd7-50c2-4ebd-bd00-01fd48de6f37",
   "metadata": {},
   "outputs": [],
   "source": []
  },
  {
   "cell_type": "code",
   "execution_count": null,
   "id": "76c9560a-e93b-4142-bbdf-76e5a4b10933",
   "metadata": {},
   "outputs": [],
   "source": []
  },
  {
   "cell_type": "code",
   "execution_count": null,
   "id": "2a744f6b-4c05-4ce3-9376-c864de18f9da",
   "metadata": {},
   "outputs": [],
   "source": []
  },
  {
   "cell_type": "code",
   "execution_count": null,
   "id": "bab8fab3-3ecd-48a4-97dd-b64f9d926bbe",
   "metadata": {},
   "outputs": [],
   "source": []
  },
  {
   "cell_type": "code",
   "execution_count": null,
   "id": "2c4847e8-4047-4d41-9bf8-79d589dc2223",
   "metadata": {},
   "outputs": [],
   "source": []
  },
  {
   "cell_type": "code",
   "execution_count": null,
   "id": "939d43da-f19b-4f00-901a-b22db6d1a249",
   "metadata": {},
   "outputs": [],
   "source": []
  },
  {
   "cell_type": "code",
   "execution_count": null,
   "id": "1fbd34f7-b962-41ad-b6b8-cbf863aa3ef0",
   "metadata": {},
   "outputs": [],
   "source": []
  },
  {
   "cell_type": "code",
   "execution_count": null,
   "id": "958050bd-404f-4c83-8a04-d81e6e852f4d",
   "metadata": {},
   "outputs": [],
   "source": []
  },
  {
   "cell_type": "code",
   "execution_count": null,
   "id": "e431326a-93e0-40c5-98d1-b443a04c18a2",
   "metadata": {},
   "outputs": [],
   "source": []
  },
  {
   "cell_type": "code",
   "execution_count": null,
   "id": "d62f6911-380d-45f0-a205-7ec3cf7e703e",
   "metadata": {},
   "outputs": [],
   "source": []
  },
  {
   "cell_type": "code",
   "execution_count": null,
   "id": "859bd72c-49f6-4bd6-82bd-ef4c63401d21",
   "metadata": {},
   "outputs": [],
   "source": []
  },
  {
   "cell_type": "code",
   "execution_count": null,
   "id": "0d3b25ef-8789-4110-b7f4-7d657d2febed",
   "metadata": {},
   "outputs": [],
   "source": []
  },
  {
   "cell_type": "code",
   "execution_count": null,
   "id": "fe0a2f46-2fa9-403a-9b08-7835dddeaed1",
   "metadata": {},
   "outputs": [],
   "source": []
  },
  {
   "cell_type": "code",
   "execution_count": null,
   "id": "7758a08b-284c-480d-b0a4-6fb88bfca77a",
   "metadata": {},
   "outputs": [],
   "source": []
  },
  {
   "cell_type": "code",
   "execution_count": null,
   "id": "dfc01b30-eb6d-4f09-bb6c-aa4b6471a629",
   "metadata": {},
   "outputs": [],
   "source": []
  },
  {
   "cell_type": "code",
   "execution_count": null,
   "id": "6d3038ef-b850-43d7-a5d2-0a01aa5e6c23",
   "metadata": {},
   "outputs": [],
   "source": []
  },
  {
   "cell_type": "code",
   "execution_count": null,
   "id": "889cf3f4-0ea9-4d7a-a8a6-8f9dccd39924",
   "metadata": {},
   "outputs": [],
   "source": []
  },
  {
   "cell_type": "code",
   "execution_count": null,
   "id": "391014e7-3db1-4862-9f53-c2e5a796e8ac",
   "metadata": {},
   "outputs": [],
   "source": []
  },
  {
   "cell_type": "code",
   "execution_count": null,
   "id": "c1987dd4-6218-421c-b269-d5c7e1b48859",
   "metadata": {},
   "outputs": [],
   "source": []
  }
 ],
 "metadata": {
  "kernelspec": {
   "display_name": "Python 3 (ipykernel)",
   "language": "python",
   "name": "python3"
  },
  "language_info": {
   "codemirror_mode": {
    "name": "ipython",
    "version": 3
   },
   "file_extension": ".py",
   "mimetype": "text/x-python",
   "name": "python",
   "nbconvert_exporter": "python",
   "pygments_lexer": "ipython3",
   "version": "3.12.2"
  }
 },
 "nbformat": 4,
 "nbformat_minor": 5
}

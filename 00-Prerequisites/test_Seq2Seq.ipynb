{
 "cells": [
  {
   "cell_type": "markdown",
   "id": "b374fd47-efdb-4a51-baf8-5c159af6cafb",
   "metadata": {},
   "source": [
    "# Encoding, Decoding, and Learning: The Math of Seq2Seq Translation\n",
    "\n",
    "\n",
    "\n"
   ]
  },
  {
   "cell_type": "markdown",
   "id": "b3019d63-91a3-4404-85ca-17192d598227",
   "metadata": {},
   "source": [
    "\n",
    "\n",
    "In this post, you’ll learn the **mathematical foundations of sequence-to-sequence models** for machine translation 🌍. We’ll focus on a type of neural network called the **RNN Encoder–Decoder**, which is made up of two parts:\n",
    "\n",
    "- 🧠 An **encoder RNN** that takes a variable-length input sequence and turns it into a fixed-length vector.\n",
    "- 🧾 A **decoder RNN** that takes this vector and generates a variable-length output sequence.\n",
    "\n",
    "The model is trained to **predict the target sequence given the input** 🎯, by learning the conditional probability of the output based on the input. \n",
    "\n",
    "As an example, we’ll see how this model can be trained to translate English phrases into French 🇬🇧➡️🇫🇷."
   ]
  },
  {
   "cell_type": "markdown",
   "id": "4adde301-40d4-45e9-87cd-f51fc1b61ad7",
   "metadata": {},
   "source": [
    ":::{tip} Preliminary: Recurrent Neural Networks\n",
    "During this how to guide, you can make changes and experiment with MyST syntax in the editors included directly on the page.\n",
    "\n",
    "\n",
    "\n",
    "$$\\mathbb{N} = \\{ a \\in \\mathbb{Z} : a > 0 \\}$$\n",
    "\n",
    "$$\n",
    "z_j = \\sigma \\left( [\\mathbf{W}_z \\mathbf{x}]_j + [\\mathbf{U}_z \\mathbf{h}_{<t-1>}]_j \\right) \\quad \\text{Eq. (6)}\n",
    "$$\n",
    "\n",
    "\n",
    "![](../images/citations.png)\n",
    "\n",
    "\n",
    "$$\n",
    "z_j = \\sigma \\left( [\\mathbf{W}_z \\mathbf{x}]_j + [\\mathbf{U}_z \\mathbf{h}_{<t-1>}]_j \\right) \\quad \\text{Eq. (6)}\n",
    "$$\n",
    "\n",
    "\n",
    "![](../images/equations.gif)\n",
    "\n",
    "\n",
    "\n",
    "$$\n",
    "z_j = \\sigma \\left( [\\mathbf{W}_z \\mathbf{x}]_j + [\\mathbf{U}_z \\mathbf{h}_{<t-1>}]_j \\right) \\quad \\text{Eq. (6)}\n",
    "$$\n",
    "\n",
    "\n",
    "\n",
    "<!-- :::{figure} https://github.com/rowanc1/pics/blob/main/mountains.png\n",
    ":label: myLabel\n",
    "Here's a cool figure.\n",
    "::: -->\n",
    "\n",
    "$$\n",
    "z_j = \\sigma \\left( [\\mathbf{W}_z \\mathbf{x}]_j + [\\mathbf{U}_z \\mathbf{h}_{<t-1>}]_j \\right) \\quad \\text{Eq. (6)}\n",
    "$$\n",
    "\n",
    "\n",
    "\n",
    "\n",
    "![](../images/equations.gif)\n",
    "\n",
    ":::"
   ]
  },
  {
   "cell_type": "code",
   "execution_count": null,
   "id": "74820516-0d8a-4648-8124-977a9ecccb6a",
   "metadata": {},
   "outputs": [],
   "source": []
  },
  {
   "cell_type": "code",
   "execution_count": null,
   "id": "794348ad-9cb7-45ca-a8f2-5ebe8cc7392e",
   "metadata": {},
   "outputs": [],
   "source": []
  },
  {
   "cell_type": "code",
   "execution_count": null,
   "id": "3b95e1a5-2c13-4275-bb4d-c9119357d630",
   "metadata": {},
   "outputs": [],
   "source": []
  },
  {
   "cell_type": "code",
   "execution_count": null,
   "id": "2c4847e8-4047-4d41-9bf8-79d589dc2223",
   "metadata": {},
   "outputs": [],
   "source": []
  },
  {
   "cell_type": "code",
   "execution_count": null,
   "id": "c0c9bb6c-cfb5-4f29-b183-d54f6c861949",
   "metadata": {},
   "outputs": [],
   "source": []
  },
  {
   "cell_type": "code",
   "execution_count": null,
   "id": "939d43da-f19b-4f00-901a-b22db6d1a249",
   "metadata": {},
   "outputs": [],
   "source": []
  },
  {
   "cell_type": "code",
   "execution_count": null,
   "id": "1fbd34f7-b962-41ad-b6b8-cbf863aa3ef0",
   "metadata": {},
   "outputs": [],
   "source": []
  },
  {
   "cell_type": "code",
   "execution_count": null,
   "id": "958050bd-404f-4c83-8a04-d81e6e852f4d",
   "metadata": {},
   "outputs": [],
   "source": []
  },
  {
   "cell_type": "code",
   "execution_count": null,
   "id": "e431326a-93e0-40c5-98d1-b443a04c18a2",
   "metadata": {},
   "outputs": [],
   "source": []
  },
  {
   "cell_type": "code",
   "execution_count": null,
   "id": "d62f6911-380d-45f0-a205-7ec3cf7e703e",
   "metadata": {},
   "outputs": [],
   "source": []
  },
  {
   "cell_type": "code",
   "execution_count": null,
   "id": "859bd72c-49f6-4bd6-82bd-ef4c63401d21",
   "metadata": {},
   "outputs": [],
   "source": []
  },
  {
   "cell_type": "code",
   "execution_count": null,
   "id": "0d3b25ef-8789-4110-b7f4-7d657d2febed",
   "metadata": {},
   "outputs": [],
   "source": []
  },
  {
   "cell_type": "code",
   "execution_count": null,
   "id": "fe0a2f46-2fa9-403a-9b08-7835dddeaed1",
   "metadata": {},
   "outputs": [],
   "source": []
  },
  {
   "cell_type": "code",
   "execution_count": null,
   "id": "7758a08b-284c-480d-b0a4-6fb88bfca77a",
   "metadata": {},
   "outputs": [],
   "source": []
  },
  {
   "cell_type": "code",
   "execution_count": null,
   "id": "dfc01b30-eb6d-4f09-bb6c-aa4b6471a629",
   "metadata": {},
   "outputs": [],
   "source": []
  },
  {
   "cell_type": "code",
   "execution_count": null,
   "id": "6d3038ef-b850-43d7-a5d2-0a01aa5e6c23",
   "metadata": {},
   "outputs": [],
   "source": []
  },
  {
   "cell_type": "code",
   "execution_count": null,
   "id": "889cf3f4-0ea9-4d7a-a8a6-8f9dccd39924",
   "metadata": {},
   "outputs": [],
   "source": []
  },
  {
   "cell_type": "code",
   "execution_count": null,
   "id": "391014e7-3db1-4862-9f53-c2e5a796e8ac",
   "metadata": {},
   "outputs": [],
   "source": []
  },
  {
   "cell_type": "code",
   "execution_count": null,
   "id": "c1987dd4-6218-421c-b269-d5c7e1b48859",
   "metadata": {},
   "outputs": [],
   "source": []
  }
 ],
 "metadata": {
  "kernelspec": {
   "display_name": "Python 3 (ipykernel)",
   "language": "python",
   "name": "python3"
  },
  "language_info": {
   "codemirror_mode": {
    "name": "ipython",
    "version": 3
   },
   "file_extension": ".py",
   "mimetype": "text/x-python",
   "name": "python",
   "nbconvert_exporter": "python",
   "pygments_lexer": "ipython3",
   "version": "3.12.2"
  }
 },
 "nbformat": 4,
 "nbformat_minor": 5
}

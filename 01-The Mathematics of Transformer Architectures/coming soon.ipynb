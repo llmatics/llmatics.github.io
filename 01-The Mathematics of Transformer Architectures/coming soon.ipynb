{
 "cells": [
  {
   "cell_type": "markdown",
   "id": "fc0b69cb-c462-4015-8d0b-96094dbfcfd7",
   "metadata": {},
   "source": [
    "# Transformers: A Deep Dive into the Math Behind the Magic"
   ]
  },
  {
   "cell_type": "markdown",
   "id": "5e89b6b8-0152-4d55-8ad4-ff2a5835f2bb",
   "metadata": {},
   "source": [
    "### Coming soooon :)"
   ]
  }
 ],
 "metadata": {
  "kernelspec": {
   "display_name": "Python 3 (ipykernel)",
   "language": "python",
   "name": "python3"
  },
  "language_info": {
   "codemirror_mode": {
    "name": "ipython",
    "version": 3
   },
   "file_extension": ".py",
   "mimetype": "text/x-python",
   "name": "python",
   "nbconvert_exporter": "python",
   "pygments_lexer": "ipython3",
   "version": "3.12.2"
  }
 },
 "nbformat": 4,
 "nbformat_minor": 5
}
